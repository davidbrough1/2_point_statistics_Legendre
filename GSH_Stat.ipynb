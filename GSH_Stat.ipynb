{
 "metadata": {
  "name": "",
  "signature": "sha256:f826177cac1260a81308cd13dad90db34b8e918e5187a9c0df297b68c1001e25"
 },
 "nbformat": 3,
 "nbformat_minor": 0,
 "worksheets": []
}